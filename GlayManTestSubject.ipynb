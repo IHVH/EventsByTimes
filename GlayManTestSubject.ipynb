{
 "cells": [
  {
   "cell_type": "code",
   "execution_count": 1,
   "metadata": {},
   "outputs": [
    {
     "name": "stdout",
     "output_type": "stream",
     "text": [
      "Glay_Man test subject\n",
      "12\n"
     ]
    }
   ],
   "source": [
    "print(\"Glay_Man test subject\")\n",
    "print(12)"
   ]
  }
 ],
 "metadata": {
  "kernelspec": {
   "display_name": "Python 3.10.7 64-bit",
   "language": "python",
   "name": "python3"
  },
  "language_info": {
   "codemirror_mode": {
    "name": "ipython",
    "version": 3
   },
   "file_extension": ".py",
   "mimetype": "text/x-python",
   "name": "python",
   "nbconvert_exporter": "python",
   "pygments_lexer": "ipython3",
   "version": "3.10.7"
  },
  "orig_nbformat": 4,
  "vscode": {
   "interpreter": {
    "hash": "fba2966913dbb15bf0cda28007d7492abde26b6372856a771226eeff4c4e805a"
   }
  }
 },
 "nbformat": 4,
 "nbformat_minor": 2
}
